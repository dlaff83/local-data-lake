{
 "cells": [
  {
   "cell_type": "code",
   "execution_count": 1,
   "metadata": {},
   "outputs": [],
   "source": [
    "import os\n",
    "from minio import Minio\n",
    "\n",
    "import pyspark\n",
    "from pyspark import SparkFiles\n",
    "from pyspark.sql import SparkSession, functions as F, types\n",
    "from datetime import datetime, timedelta"
   ]
  },
  {
   "cell_type": "code",
   "execution_count": 2,
   "metadata": {},
   "outputs": [],
   "source": [
    "client = Minio(\n",
    "    'localhost:9000',\n",
    "    access_key=os.getenv('DEV_USER_ACCESS_KEY'),\n",
    "    secret_key=os.getenv('DEV_USER_SECRET_KEY'),\n",
    "    secure=False\n",
    ")\n",
    "\n",
    "bucket_name = 'local-data-lake-bronze'\n",
    "\n",
    "found = client.bucket_exists(bucket_name)\n",
    "if not found:\n",
    "    client.make_bucket(bucket_name)"
   ]
  },
  {
   "cell_type": "code",
   "execution_count": 3,
   "metadata": {},
   "outputs": [
    {
     "name": "stdout",
     "output_type": "stream",
     "text": [
      "24/05/30 21:35:58 WARN Utils: Your hostname, Denniss-MacBook-Pro.local resolves to a loopback address: 127.0.0.1; using 192.168.0.6 instead (on interface en0)\n",
      "24/05/30 21:35:58 WARN Utils: Set SPARK_LOCAL_IP if you need to bind to another address\n",
      "24/05/30 21:35:58 WARN NativeCodeLoader: Unable to load native-hadoop library for your platform... using builtin-java classes where applicable\n"
     ]
    },
    {
     "name": "stderr",
     "output_type": "stream",
     "text": [
      "Setting default log level to \"WARN\".\n",
      "To adjust logging level use sc.setLogLevel(newLevel). For SparkR, use setLogLevel(newLevel).\n"
     ]
    },
    {
     "name": "stdout",
     "output_type": "stream",
     "text": [
      "Vector(spark://192.168.0.6:59902/jars/aws-java-sdk-bundle-1.12.262.jar, spark://192.168.0.6:59902/jars/hadoop-aws-3.3.4.jar)\n",
      "The Pyspark version 3.3.4 is running...\n"
     ]
    }
   ],
   "source": [
    "spark = SparkSession.builder \\\n",
    "    .master('local[5]') \\\n",
    "    .appName('local-data-lake') \\\n",
    "    .config('spark.jars', '../jars/hadoop-aws-3.3.4.jar,../jars/aws-java-sdk-bundle-1.12.262.jar') \\\n",
    "    .getOrCreate()\n",
    "\n",
    "sc = spark.sparkContext\n",
    "print(spark.sparkContext._jsc.sc().listJars())\n",
    "print(f'The Pyspark version {spark.version} is running...')"
   ]
  },
  {
   "cell_type": "code",
   "execution_count": 4,
   "metadata": {},
   "outputs": [],
   "source": [
    "sc._jsc.hadoopConfiguration().set('fs.s3a.access.key', os.getenv('DEV_USER_ACCESS_KEY'))\n",
    "sc._jsc.hadoopConfiguration().set('fs.s3a.secret.key', os.getenv('DEV_USER_SECRET_KEY'))\n",
    "sc._jsc.hadoopConfiguration().set('fs.s3a.endpoint', 'http://127.0.0.1:9000')\n",
    "sc._jsc.hadoopConfiguration().set('fs.s3a.path.style.access', 'true')\n",
    "sc._jsc.hadoopConfiguration().set('fs.s3a.connection.ssl.enabled', 'false')\n",
    "sc._jsc.hadoopConfiguration().set('fs.s3a.impl', 'org.apache.hadoop.fs.s3a.S3AFileSystem')\n",
    "sc._jsc.hadoopConfiguration().set('fs.s3a.connection.ssl.enabled', 'false')"
   ]
  },
  {
   "cell_type": "code",
   "execution_count": 5,
   "metadata": {},
   "outputs": [],
   "source": [
    "def load_taxi_data(dt):\n",
    "    url = f'https://d37ci6vzurychx.cloudfront.net/trip-data/yellow_tripdata_{dt}.parquet'\n",
    "    sc.addFile(url)\n",
    "    \n",
    "    df = spark.read.parquet(SparkFiles.get(f'yellow_tripdata_{dt}.parquet'))\n",
    "    \n",
    "    return df"
   ]
  },
  {
   "cell_type": "code",
   "execution_count": 6,
   "metadata": {},
   "outputs": [
    {
     "name": "stderr",
     "output_type": "stream",
     "text": [
      "                                                                                \r"
     ]
    },
    {
     "name": "stdout",
     "output_type": "stream",
     "text": [
      "24/05/30 21:36:25 WARN MetricsConfig: Cannot locate configuration: tried hadoop-metrics2-s3a-file-system.properties,hadoop-metrics2.properties\n"
     ]
    },
    {
     "name": "stderr",
     "output_type": "stream",
     "text": [
      "                                                                                \r"
     ]
    }
   ],
   "source": [
    "dt = '2024-03'\n",
    "\n",
    "df = load_taxi_data(dt)\n",
    "df.count()\n",
    "\n",
    "df \\\n",
    "    .write \\\n",
    "    .mode('overwrite') \\\n",
    "    .parquet(f's3a://local-data-lake-bronze/{dt}/yellow_taxi.parquet')"
   ]
  },
  {
   "cell_type": "code",
   "execution_count": 11,
   "metadata": {},
   "outputs": [
    {
     "name": "stdout",
     "output_type": "stream",
     "text": [
      "+--------+--------------------+---------------------+---------------+-------------+----------+------------------+------------+------------+------------+-----------+-----+-------+----------+------------+---------------------+------------+--------------------+-----------+\n",
      "|VendorID|tpep_pickup_datetime|tpep_dropoff_datetime|passenger_count|trip_distance|RatecodeID|store_and_fwd_flag|PULocationID|DOLocationID|payment_type|fare_amount|extra|mta_tax|tip_amount|tolls_amount|improvement_surcharge|total_amount|congestion_surcharge|Airport_fee|\n",
      "+--------+--------------------+---------------------+---------------+-------------+----------+------------------+------------+------------+------------+-----------+-----+-------+----------+------------+---------------------+------------+--------------------+-----------+\n",
      "|       1| 2024-02-29 17:18:51|  2024-02-29 17:23:45|              0|          1.3|         1|                 N|         142|         239|           1|        8.6|  3.5|    0.5|       2.7|         0.0|                  1.0|        16.3|                 2.5|        0.0|\n",
      "|       1| 2024-02-29 17:26:00|  2024-02-29 17:29:06|              0|          1.1|         1|                 N|         238|          24|           1|        7.2|  3.5|    0.5|       3.0|         0.0|                  1.0|        15.2|                 2.5|        0.0|\n",
      "|       2| 2024-02-29 17:09:22|  2024-02-29 17:15:24|              1|         0.86|         1|                 N|         263|          75|           2|        7.9|  1.0|    0.5|       0.0|         0.0|                  1.0|        10.4|                 0.0|        0.0|\n",
      "|       2| 2024-02-29 17:33:45|  2024-02-29 17:39:34|              1|         0.82|         1|                 N|         164|         162|           1|        7.9|  1.0|    0.5|      1.29|         0.0|                  1.0|       14.19|                 2.5|        0.0|\n",
      "|       1| 2024-02-29 17:05:43|  2024-02-29 17:26:22|              0|          4.9|         1|                 N|         263|           7|           2|       25.4|  3.5|    0.5|       0.0|         0.0|                  1.0|        30.4|                 2.5|        0.0|\n",
      "|       2| 2024-02-29 17:50:42|  2024-02-29 18:10:40|              1|         5.04|         1|                 N|         238|         159|           2|       25.4|  1.0|    0.5|       0.0|         0.0|                  1.0|        27.9|                 0.0|        0.0|\n",
      "|       2| 2024-02-29 17:08:23|  2024-02-29 17:17:53|              1|         2.15|         1|                 N|         161|         141|           1|       12.1|  1.0|    0.5|      5.13|         0.0|                  1.0|       22.23|                 2.5|        0.0|\n",
      "|       2| 2024-02-29 17:24:58|  2024-02-29 17:30:31|              1|          1.1|         1|                 N|         236|         237|           1|        8.6|  1.0|    0.5|      2.04|         0.0|                  1.0|       15.64|                 2.5|        0.0|\n",
      "|       2| 2024-02-29 17:49:40|  2024-02-29 18:01:25|              1|         2.78|         1|                 N|         161|         114|           1|       14.9|  1.0|    0.5|       2.0|         0.0|                  1.0|        21.9|                 2.5|        0.0|\n",
      "|       1| 2024-02-29 17:21:43|  2024-02-29 17:24:44|              1|          0.3|         1|                 N|         237|         141|           2|        5.1|  3.5|    0.5|       0.0|         0.0|                  1.0|        10.1|                 2.5|        0.0|\n",
      "|       1| 2024-02-29 17:39:16|  2024-02-29 17:48:12|              1|          1.2|         1|                 N|         164|         246|           1|       10.0|  3.5|    0.5|       2.0|         0.0|                  1.0|        17.0|                 2.5|        0.0|\n",
      "|       2| 2024-02-29 17:42:29|  2024-02-29 17:57:36|              1|         3.22|         1|                 N|         246|          79|           1|       17.7|  1.0|    0.5|      4.54|         0.0|                  1.0|       27.24|                 2.5|        0.0|\n",
      "|       2| 2024-02-29 17:59:29|  2024-02-29 18:11:20|              1|         5.34|         1|                 N|          79|         263|           1|       22.6|  1.0|    0.5|      5.52|         0.0|                  1.0|       33.12|                 2.5|        0.0|\n",
      "|       1| 2024-02-29 17:34:52|  2024-02-29 17:48:12|              1|          2.1|         1|                 N|         186|         141|           1|       12.1|  3.5|    0.5|       2.0|         0.0|                  1.0|        19.1|                 2.5|        0.0|\n",
      "|       1| 2024-02-29 17:55:33|  2024-02-29 18:07:05|              1|          2.4|         1|                 N|         237|         234|           1|       12.8|  3.5|    0.5|      4.45|         0.0|                  1.0|       22.25|                 2.5|        0.0|\n",
      "|       2| 2024-02-29 17:09:52|  2024-02-29 17:23:48|              1|         1.99|         1|                 N|         148|         256|           1|       14.9|  1.0|    0.5|      3.98|         0.0|                  1.0|       23.88|                 2.5|        0.0|\n",
      "|       2| 2024-02-29 17:36:07|  2024-02-29 17:48:01|              1|         2.97|         1|                 N|         255|         148|           1|       15.6|  1.0|    0.5|       1.0|         0.0|                  1.0|        21.6|                 2.5|        0.0|\n",
      "|       2| 2024-02-29 17:49:07|  2024-02-29 17:54:08|              1|         0.63|         1|                 N|         148|         114|           1|        6.5|  1.0|    0.5|       2.3|         0.0|                  1.0|        13.8|                 2.5|        0.0|\n",
      "|       2| 2024-02-29 17:02:24|  2024-02-29 17:07:45|              1|         1.31|         1|                 N|         239|          24|           1|        8.6|  1.0|    0.5|      4.08|         0.0|                  1.0|       17.68|                 2.5|        0.0|\n",
      "|       2| 2024-02-29 17:05:39|  2024-02-29 17:13:11|              1|         1.36|         1|                 N|          48|         170|           1|        9.3|  1.0|    0.5|      2.86|         0.0|                  1.0|       17.16|                 2.5|        0.0|\n",
      "+--------+--------------------+---------------------+---------------+-------------+----------+------------------+------------+------------+------------+-----------+-----+-------+----------+------------+---------------------+------------+--------------------+-----------+\n",
      "only showing top 20 rows\n",
      "\n"
     ]
    }
   ],
   "source": [
    "df.show()"
   ]
  },
  {
   "cell_type": "code",
   "execution_count": null,
   "metadata": {},
   "outputs": [],
   "source": [
    "df \\\n",
    "    .write \\\n",
    "    .mode('overwrite') \\\n",
    "    .parquet(f's3a://local-data-lake-bronze/yellow-taxi/{dt}/yellow_taxi.parquet')"
   ]
  },
  {
   "cell_type": "code",
   "execution_count": 12,
   "metadata": {},
   "outputs": [],
   "source": [
    "spark.stop()"
   ]
  },
  {
   "cell_type": "code",
   "execution_count": null,
   "metadata": {},
   "outputs": [],
   "source": []
  }
 ],
 "metadata": {
  "kernelspec": {
   "display_name": "spark",
   "language": "python",
   "name": "python3"
  },
  "language_info": {
   "codemirror_mode": {
    "name": "ipython",
    "version": 3
   },
   "file_extension": ".py",
   "mimetype": "text/x-python",
   "name": "python",
   "nbconvert_exporter": "python",
   "pygments_lexer": "ipython3",
   "version": "3.10.0"
  }
 },
 "nbformat": 4,
 "nbformat_minor": 2
}
